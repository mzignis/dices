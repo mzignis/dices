{
 "cells": [
  {
   "cell_type": "code",
   "execution_count": null,
   "id": "initial_id",
   "metadata": {
    "collapsed": true
   },
   "outputs": [],
   "source": [
    "from pathlib import Path\n",
    "\n",
    "import matplotlib.pyplot as plt\n",
    "import numpy as np\n",
    "import PIL.Image"
   ]
  },
  {
   "cell_type": "code",
   "execution_count": null,
   "outputs": [],
   "source": [
    "data_dirpath = Path('../data/dice').resolve()\n",
    "data_dirpath"
   ],
   "metadata": {
    "collapsed": false
   },
   "id": "57f91bd3983fbe70"
  },
  {
   "cell_type": "code",
   "execution_count": null,
   "outputs": [],
   "source": [
    "children = [x for x in data_dirpath.glob('*') if x.is_dir()]\n",
    "{child: len(list(child.glob('*/**/*.jpg'))) for child in sorted(children)}"
   ],
   "metadata": {
    "collapsed": false
   },
   "id": "fa49a1aaf02a9c68"
  },
  {
   "cell_type": "code",
   "execution_count": null,
   "outputs": [],
   "source": [
    "data_dirpaths = {\n",
    "    x.name: sorted(x.glob('*')) for x in children\n",
    "}"
   ],
   "metadata": {
    "collapsed": false
   },
   "id": "c89b46eb4b24de73"
  },
  {
   "cell_type": "code",
   "execution_count": null,
   "outputs": [],
   "source": [
    "dice_types = [x.name for x in data_dirpaths['train']]\n",
    "examples = 4\n",
    "\n",
    "for ii, dice_dirpath in enumerate(data_dirpaths['train']):\n",
    "    fig, ax = plt.subplots(nrows=1, ncols=examples, figsize=(10, 15))\n",
    "    images = [\n",
    "        PIL.Image.open(x) for x in np.random.choice(list(dice_dirpath.glob('*.jpg')), size=examples, replace=False)\n",
    "    ]\n",
    "    for jj, image in enumerate(images):\n",
    "        ax[jj].imshow(image)\n",
    "        \n",
    "    # ax.set_title(f'{dice_dirpath.name}')"
   ],
   "metadata": {
    "collapsed": false
   },
   "id": "528740c4df385949"
  },
  {
   "cell_type": "code",
   "execution_count": null,
   "outputs": [],
   "source": [],
   "metadata": {
    "collapsed": false
   },
   "id": "83ed6adb18527f24"
  }
 ],
 "metadata": {
  "kernelspec": {
   "display_name": "Python 3",
   "language": "python",
   "name": "python3"
  },
  "language_info": {
   "codemirror_mode": {
    "name": "ipython",
    "version": 2
   },
   "file_extension": ".py",
   "mimetype": "text/x-python",
   "name": "python",
   "nbconvert_exporter": "python",
   "pygments_lexer": "ipython2",
   "version": "2.7.6"
  }
 },
 "nbformat": 4,
 "nbformat_minor": 5
}
